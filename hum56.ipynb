{
 "cells": [
  {
   "cell_type": "markdown",
   "id": "09291496-9fcd-4947-9788-7ee20442ed20",
   "metadata": {},
   "source": [
    "## Section 2: NumPy Arrays for Numerical Computing\n",
    "### Exercise 2.1: Creating EEG-like Data Arrays"
   ]
  },
  {
   "cell_type": "markdown",
   "id": "27f367c6-8354-4e67-b25a-bffe81577c43",
   "metadata": {},
   "source": [
    "### Learning Objective: Master NumPy array creation and manipulation for EEG data structures."
   ]
  },
  {
   "cell_type": "markdown",
   "id": "10d13668-906c-4160-be49-77061d8db113",
   "metadata": {},
   "source": [
    "### Import the required libraries at the beginning of your notebook:"
   ]
  },
  {
   "cell_type": "code",
   "execution_count": 3,
   "id": "f4856321-9ca9-477d-8737-d9c2d6b7074a",
   "metadata": {},
   "outputs": [],
   "source": [
    "import numpy as np \n",
    "import pandas as pd\n",
    "import matplotlib.pyplot as plt \n",
    "import seaborn as sns\n",
    "import warnings \n",
    "warnings.filterwarnings('ignore')"
   ]
  },
  {
   "cell_type": "markdown",
   "id": "04f9a043-9103-4e5e-a32f-fcf62817adb0",
   "metadata": {},
   "source": [
    "## Part A: Basic array creation\n",
    "### Task: Create arrays that simulate typical EEG data dimensions.\n"
   ]
  },
  {
   "cell_type": "code",
   "execution_count": 7,
   "id": "97c93ffe-562a-4ded-85ff-130735833af4",
   "metadata": {},
   "outputs": [
    {
     "name": "stdout",
     "output_type": "stream",
     "text": [
      "EEG data shape: (8, 1000)\n",
      "Time vector shape: (1000,)\n",
      "Data type: float64\n",
      "Memory usage: 64000 bytes\n"
     ]
    }
   ],
   "source": [
    "# Create arrays representing EEG data\n",
    "# Simulated EEG data: 8 channels, 1000 time points \n",
    "\n",
    "n_channels = 8\n",
    "n_timepoints = 1000 \n",
    "sampling_rate = 250\t # Hz\n",
    "\n",
    "# Create time vector\n",
    "time = np.linspace(0, n_timepoints/sampling_rate, n_timepoints)\n",
    "\n",
    "# Create random EEG-like data (microvolts) \n",
    "np.random.seed(42)\t# For reproducible results\n",
    "eeg_data = np.random.randn(n_channels, n_timepoints) * 50\t# Scale to microvolts\n",
    "\n",
    "print(\"EEG data shape:\", eeg_data.shape) \n",
    "print(\"Time vector shape:\", time.shape) \n",
    "print(\"Data type:\", eeg_data.dtype) \n",
    "print(\"Memory usage:\", eeg_data.nbytes, \"bytes\")\n"
   ]
  },
  {
   "cell_type": "markdown",
   "id": "b6173eaa-375e-4c3f-b5e1-6c3949149fdf",
   "metadata": {},
   "source": [
    "## Part B: Array indexing and slicing\n",
    "### Task: Practice advanced indexing techniques for accessing EEG data segments.\n"
   ]
  },
  {
   "cell_type": "code",
   "execution_count": 8,
   "id": "361dfc6a-537e-4519-8f73-ff444b825326",
   "metadata": {},
   "outputs": [
    {
     "name": "stdout",
     "output_type": "stream",
     "text": [
      "Channel 1 shape: (1000,)\n",
      "Time segment shape: (8, 100)\n",
      "Single sample value: 59.032045622607235\n"
     ]
    }
   ],
   "source": [
    "# Access specific channels and time segments\n",
    "\n",
    "channel_1 = eeg_data[0, :]\t# First channel, all timepoints \n",
    "time_segment = eeg_data[:, 100:200]\t# All channels, timepoints 100-199 \n",
    "single_sample = eeg_data[3, 500]\t# Channel 4, timepoint 500\n",
    "\n",
    "print(\"Channel 1 shape:\", channel_1.shape) \n",
    "print(\"Time segment shape:\", time_segment.shape) \n",
    "print(\"Single sample value:\", single_sample)\n",
    "\n",
    "\n",
    "#  Your task: Extract the last 3 channels for the first 500 timepoints \n",
    "##  last_3_channels = # Your code here\n",
    "##  print(\"Last 3 channels shape:\", last_3_channels.shape)\n"
   ]
  },
  {
   "cell_type": "code",
   "execution_count": null,
   "id": "2bd3f276-486d-463d-85d1-73c5a9108861",
   "metadata": {},
   "outputs": [],
   "source": []
  },
  {
   "cell_type": "markdown",
   "id": "bac7120a-93b9-48f0-8059-90e715c24101",
   "metadata": {},
   "source": [
    "## Part C: Array operations for signal processing\n",
    "### Task: Apply mathematical operations common in EEG preprocessing.\n"
   ]
  },
  {
   "cell_type": "code",
   "execution_count": 9,
   "id": "3fce7a3e-48a5-46eb-b330-7d651559a74b",
   "metadata": {},
   "outputs": [
    {
     "name": "stdout",
     "output_type": "stream",
     "text": [
      "Channel means: [ 0.96660279  3.54181186  0.29171073 -0.93596089 -2.46368197 -2.33688001\n",
      " -1.4078258   0.96085208]\n",
      "Channel standard deviations: [48.93631039 49.84777626 49.14812155 51.33094154 49.59419495 50.34427129\n",
      " 51.2245932  52.06095098]\n",
      "Normalized means (should be ~0): [ 9.76996262e-18  5.32907052e-18  7.10542736e-18  8.88178420e-18\n",
      " -1.06581410e-17  0.00000000e+00 -4.44089210e-18 -2.84217094e-17]\n",
      "Normalized stds (should be ~1): [1. 1. 1. 1. 1. 1. 1. 1.]\n"
     ]
    }
   ],
   "source": [
    "# Basic signal processing operations\n",
    "\n",
    "# Calculate mean voltage for each channel\n",
    "channel_means = np.mean(eeg_data, axis=1) \n",
    "print(\"Channel means:\", channel_means)\n",
    "\n",
    "# Calculate standard deviation across time for each channel \n",
    "channel_stds = np.std(eeg_data, axis=1)\n",
    "print(\"Channel standard deviations:\", channel_stds)\n",
    "\n",
    "# Z-score normalization (common preprocessing step)\n",
    "eeg_normalized = (eeg_data - channel_means[:, np.newaxis]) / channel_stds[:, np.newaxis]\n",
    "\n",
    "# Verify normalization\n",
    "print(\"Normalized means (should be ~0):\", np.mean(eeg_normalized, axis=1)) \n",
    "print(\"Normalized stds (should be ~1):\", np.std(eeg_normalized, axis=1))\n"
   ]
  },
  {
   "cell_type": "code",
   "execution_count": null,
   "id": "5cfa099b-343b-4670-b9e7-dec1c7d013f4",
   "metadata": {},
   "outputs": [],
   "source": []
  },
  {
   "cell_type": "markdown",
   "id": "a9dc7d2e-b7c1-4986-8096-068fb9d8c66f",
   "metadata": {},
   "source": [
    "## Exercise 2.2: Advanced Array Operations\n",
    "### Learning Objective: Implement complex operations for artifact detection and signal analysis."
   ]
  },
  {
   "cell_type": "code",
   "execution_count": 10,
   "id": "549f63dc-1267-4cd6-b616-9479119d4efe",
   "metadata": {},
   "outputs": [
    {
     "name": "stdout",
     "output_type": "stream",
     "text": [
      "Number of artifact samples: 30\n",
      "Channels affected by artifacts: [0 1 2 3 4 5 6 7]\n",
      "Good data percentage: 99.6%\n",
      "Original power: 2395.70\n",
      "Power with alpha: 2848.63\n",
      "Power increase: 452.94\n"
     ]
    }
   ],
   "source": [
    "# Create artifact detection using array operations\n",
    "# Simulate some artifacts (large voltage deflections)\n",
    "artifact_indices = [200, 201, 202, 750, 751, 752]\n",
    "eeg_data_with_artifacts = eeg_data.copy()\n",
    "eeg_data_with_artifacts[:, artifact_indices] *= 10 # Amplify artifacts\n",
    "\n",
    "# Detect artifacts using threshold\n",
    "threshold = 200 # microvolts\n",
    "artifact_mask = np.abs(eeg_data_with_artifacts) > threshold\n",
    "\n",
    "print(\"Number of artifact samples:\", np.sum(artifact_mask))\n",
    "print(\"Channels affected by artifacts:\", np.where(np.any(artifact_mask, axis=1))\n",
    "[0])\n",
    "\n",
    "# Remove artifacts by setting them to NaN\n",
    "clean_data = eeg_data_with_artifacts.copy()\n",
    "clean_data[artifact_mask] = np.nan\n",
    "\n",
    "# Calculate percentage of good data\n",
    "good_data_percent = np.sum(~np.isnan(clean_data)) / clean_data.size * 100\n",
    "print(f\"Good data percentage: {good_data_percent:.1f}%\")\n",
    "\n",
    "# Mathematical operations for frequency analysis\n",
    "# Create a simple sine wave (simulating alpha rhythm at 10 Hz)\n",
    "alpha_freq = 10 # Hz\n",
    "alpha_signal = np.sin(2 * np.pi * alpha_freq * time)\n",
    "\n",
    "# Add to one channel\n",
    "eeg_with_alpha = eeg_data.copy()\n",
    "eeg_with_alpha[0, :] += alpha_signal * 30 # Add 30 µV alpha\n",
    "\n",
    "# Calculate power using numpy operations\n",
    "power_original = np.mean(eeg_data[0, :]**2)\n",
    "power_with_alpha = np.mean(eeg_with_alpha[0, :]**2)\n",
    "\n",
    "print(f\"Original power: {power_original:.2f}\")\n",
    "print(f\"Power with alpha: {power_with_alpha:.2f}\")\n",
    "print(f\"Power increase: {power_with_alpha - power_original:.2f}\")\n",
    "\n",
    "      "
   ]
  },
  {
   "cell_type": "code",
   "execution_count": 18,
   "id": "d42633b0-93d9-4839-a277-10a628b88fa8",
   "metadata": {},
   "outputs": [],
   "source": [
    "# print(eeg_data_with_artifacts)\n",
    "# print(eeg_data)"
   ]
  },
  {
   "cell_type": "markdown",
   "id": "6395e811-1ccc-4db1-a3ca-d938d80e9e6b",
   "metadata": {},
   "source": [
    "## Exercise 2.2: Advanced Array Operations\n",
    "### Learning Objective: Implement complex operations for artifact detection and signal analysis."
   ]
  },
  {
   "cell_type": "code",
   "execution_count": 11,
   "id": "56747171-948f-4b01-898e-f6873c466ac2",
   "metadata": {},
   "outputs": [
    {
     "name": "stdout",
     "output_type": "stream",
     "text": [
      "Number of artifact samples: 30\n",
      "Channels affected by artifacts: [0 1 2 3 4 5 6 7]\n",
      "Good data percentage: 99.6%\n",
      "Original power: 2395.70\n",
      "Power with alpha: 2848.63\n",
      "Power increase: 452.94\n"
     ]
    }
   ],
   "source": [
    "# Create artifact detection using array operations\n",
    "# Simulate some artifacts (large voltage deflections)\n",
    "artifact_indices = [200, 201, 202, 750, 751, 752]\n",
    "eeg_data_with_artifacts = eeg_data.copy()\n",
    "eeg_data_with_artifacts[:, artifact_indices] *= 10 # Amplify artifacts\n",
    "\n",
    "# Detect artifacts using threshold\n",
    "threshold = 200 # microvolts\n",
    "artifact_mask = np.abs(eeg_data_with_artifacts) > threshold\n",
    "\n",
    "print(\"Number of artifact samples:\", np.sum(artifact_mask))\n",
    "print(\"Channels affected by artifacts:\", np.where(np.any(artifact_mask, axis=1))\n",
    "[0])\n",
    "\n",
    "# Remove artifacts by setting them to NaN\n",
    "clean_data = eeg_data_with_artifacts.copy()\n",
    "clean_data[artifact_mask] = np.nan\n",
    "\n",
    "# Calculate percentage of good data\n",
    "good_data_percent = np.sum(~np.isnan(clean_data)) / clean_data.size * 100\n",
    "print(f\"Good data percentage: {good_data_percent:.1f}%\")\n",
    "\n",
    "# Mathematical operations for frequency analysis\n",
    "# Create a simple sine wave (simulating alpha rhythm at 10 Hz)\n",
    "alpha_freq = 10 # Hz\n",
    "alpha_signal = np.sin(2 * np.pi * alpha_freq * time)\n",
    "\n",
    "# Add to one channel\n",
    "eeg_with_alpha = eeg_data.copy()\n",
    "eeg_with_alpha[0, :] += alpha_signal * 30 # Add 30 µV alpha\n",
    "\n",
    "# Calculate power using numpy operations\n",
    "power_original = np.mean(eeg_data[0, :]**2)\n",
    "power_with_alpha = np.mean(eeg_with_alpha[0, :]**2)\n",
    "\n",
    "print(f\"Original power: {power_original:.2f}\")\n",
    "print(f\"Power with alpha: {power_with_alpha:.2f}\")\n",
    "print(f\"Power increase: {power_with_alpha - power_original:.2f}\")\n"
   ]
  },
  {
   "cell_type": "code",
   "execution_count": null,
   "id": "4c72fbca-0f81-45b4-a445-8cb7258247d7",
   "metadata": {},
   "outputs": [],
   "source": []
  },
  {
   "cell_type": "code",
   "execution_count": null,
   "id": "7c44c964-d7f4-4f9b-ab8e-9a62547d74d1",
   "metadata": {},
   "outputs": [],
   "source": []
  },
  {
   "cell_type": "code",
   "execution_count": null,
   "id": "d6b6be34-53bd-469b-9417-32895d252029",
   "metadata": {},
   "outputs": [],
   "source": []
  },
  {
   "cell_type": "code",
   "execution_count": null,
   "id": "c3fefed6-12b9-476e-882d-c85e90de82b3",
   "metadata": {},
   "outputs": [],
   "source": []
  }
 ],
 "metadata": {
  "kernelspec": {
   "display_name": "Python [conda env:base] *",
   "language": "python",
   "name": "conda-base-py"
  },
  "language_info": {
   "codemirror_mode": {
    "name": "ipython",
    "version": 3
   },
   "file_extension": ".py",
   "mimetype": "text/x-python",
   "name": "python",
   "nbconvert_exporter": "python",
   "pygments_lexer": "ipython3",
   "version": "3.13.5"
  }
 },
 "nbformat": 4,
 "nbformat_minor": 5
}
